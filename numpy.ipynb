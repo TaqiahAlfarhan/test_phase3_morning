{
  "nbformat": 4,
  "nbformat_minor": 0,
  "metadata": {
    "colab": {
      "provenance": [],
      "authorship_tag": "ABX9TyMnY/PsaerTaSSnpdgm7WmA",
      "include_colab_link": true
    },
    "kernelspec": {
      "name": "python3",
      "display_name": "Python 3"
    },
    "language_info": {
      "name": "python"
    }
  },
  "cells": [
    {
      "cell_type": "markdown",
      "metadata": {
        "id": "view-in-github",
        "colab_type": "text"
      },
      "source": [
        "<a href=\"https://colab.research.google.com/github/TaqiahAlfarhan/test_phase3_morning/blob/main/numpy.ipynb\" target=\"_parent\"><img src=\"https://colab.research.google.com/assets/colab-badge.svg\" alt=\"Open In Colab\"/></a>"
      ]
    },
    {
      "cell_type": "code",
      "execution_count": 2,
      "metadata": {
        "colab": {
          "base_uri": "https://localhost:8080/"
        },
        "id": "LLxtVdD-z-x4",
        "outputId": "f2bc28a6-d8cf-40f5-b0fe-081b0decfadd"
      },
      "outputs": [
        {
          "output_type": "stream",
          "name": "stdout",
          "text": [
            "[3 2]\n",
            "[2 6]\n"
          ]
        }
      ],
      "source": [
        "import numpy as np\n",
        "np.array([1, 2, 3])\n",
        "v1 = np.array([1,3])\n",
        "v2 = np.array([2,-1])\n",
        "\n",
        "print(v1+v2)\n",
        "print(v1*2)"
      ]
    }
  ]
}